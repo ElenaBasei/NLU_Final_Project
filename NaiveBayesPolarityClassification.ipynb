{
 "cells": [
  {
   "cell_type": "markdown",
   "id": "308623a6",
   "metadata": {},
   "source": [
    "# Polarity Classification"
   ]
  },
  {
   "cell_type": "code",
   "execution_count": 1,
   "id": "6b2e364b",
   "metadata": {},
   "outputs": [],
   "source": [
    "import sklearn\n",
    "from sklearn.feature_extraction.text import CountVectorizer\n",
    "from sklearn.naive_bayes import MultinomialNB\n",
    "from sklearn.model_selection import StratifiedKFold\n",
    "from sklearn.model_selection import cross_validate\n",
    "\n",
    "class PolarityClassificationModel:\n",
    "    \n",
    "    def __init__(self, vectorizer = CountVectorizer()):\n",
    "        self.model = MultinomialNB()\n",
    "        self.vectorizer = vectorizer\n",
    "    \n",
    "    def fit(self, corpus, labels):\n",
    "        self.vectorizer.fit(corpus)\n",
    "        vectors = self.vectorizer.transform(corpus)\n",
    "        \n",
    "        self.model.fit(vectors, labels)\n",
    "        \n",
    "    def predict(self, corpus):\n",
    "        vectors = self.vectorizer.transform(corpus)\n",
    "        return ['positive' if x == 0 else 'negative' for x in self.model.predict(vectors)]\n",
    "        \n",
    "    def score(self, corpus, labels):\n",
    "        vectors = self.vectorizer.transform(corpus)\n",
    "        return self.model.score(vectors, labels)\n",
    "    \n",
    "    def cross_validation_score(self, corpus, labels, k = 10):\n",
    "        vectors = self.vectorizer.transform(corpus)\n",
    "        scores = cross_validate(self.model, vectors, labels, cv=StratifiedKFold(n_splits=k) , scoring=['f1_micro'])\n",
    "        average = sum(scores['test_f1_micro'])/len(scores['test_f1_micro'])\n",
    "        return round(average, 3)"
   ]
  },
  {
   "cell_type": "code",
   "execution_count": 2,
   "id": "138cd72d",
   "metadata": {},
   "outputs": [],
   "source": [
    "import numpy\n",
    "import random\n",
    "\n",
    "%run SubjectivityDetection.ipynb\n",
    "\n",
    "\n",
    "def remove_obj_sents(review, SubjDet_model):\n",
    "    corpus = [\" \".join([w for w in sent]) for sent in review]\n",
    "    predictions = SubjDet_model.predict(corpus)\n",
    "\n",
    "    cp = [(corpus[i], predictions[i]) for i in range(0, len(corpus))]\n",
    "    \n",
    "    return [x[0] for x in cp if x[1] == 'subj']\n",
    "              \n",
    "\n",
    "def get_pol_class_trained(neg, pos, SubjDet_model, vectorizer = CountVectorizer()):    \n",
    "    train_neg = neg[:int(len(neg)*0.8)]\n",
    "    train_pos = pos[:int(len(pos)*0.8)]\n",
    "    test = pos[(len(train_pos)):] + neg[(len(train_neg)):]\n",
    "              \n",
    "    train_neg_subj = []\n",
    "    for review in train_neg:\n",
    "        train_neg_subj.append(remove_obj_sents(review, SubjDet_model))\n",
    "\n",
    "    train_pos_subj = []\n",
    "    for review in train_pos:\n",
    "        train_pos_subj.append(remove_obj_sents(review, SubjDet_model))\n",
    "\n",
    "    test_subj = []\n",
    "    for review in test:\n",
    "        test_subj.append(remove_obj_sents(review, SubjDet_model))\n",
    "              \n",
    "    corpus = [\" \".join([w for w in sent]) for sent in train_pos_subj] + [\" \".join([w for w in sent]) for sent in train_neg_subj]\n",
    "    labelsPolarity = numpy.array([0] * len(train_pos_subj) + [1] * len(train_neg_subj))\n",
    "    \n",
    "    model = PolarityClassificationModel(vectorizer)\n",
    "    model.fit(corpus, labelsPolarity)\n",
    "              \n",
    "    test_data = [\" \".join([w for w in sent]) for sent in test_subj]\n",
    "    labels_test = numpy.array([0] * (len(pos) - len(train_pos_subj)) + [1] * (len(neg) - len(train_neg_subj)))\n",
    "    return model, model.score(test_data, labels_test)\n",
    "              "
   ]
  }
 ],
 "metadata": {
  "kernelspec": {
   "display_name": "Python 3 (ipykernel)",
   "language": "python",
   "name": "python3"
  },
  "language_info": {
   "codemirror_mode": {
    "name": "ipython",
    "version": 3
   },
   "file_extension": ".py",
   "mimetype": "text/x-python",
   "name": "python",
   "nbconvert_exporter": "python",
   "pygments_lexer": "ipython3",
   "version": "3.9.12"
  }
 },
 "nbformat": 4,
 "nbformat_minor": 5
}
