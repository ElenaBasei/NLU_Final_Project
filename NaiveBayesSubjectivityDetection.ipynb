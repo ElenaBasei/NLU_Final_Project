{
 "cells": [
  {
   "cell_type": "markdown",
   "id": "5b75592e",
   "metadata": {},
   "source": [
    "# Subjectivity Detection"
   ]
  },
  {
   "cell_type": "code",
   "execution_count": 1,
   "id": "6924bf62",
   "metadata": {},
   "outputs": [],
   "source": [
    "import sklearn\n",
    "from sklearn.feature_extraction.text import CountVectorizer\n",
    "from sklearn.naive_bayes import MultinomialNB\n",
    "from sklearn.model_selection import StratifiedKFold\n",
    "from sklearn.model_selection import cross_validate\n",
    "\n",
    "class SubjectivityDetectionModel:\n",
    "    \n",
    "    def __init__(self, vectorizer = CountVectorizer()):\n",
    "        self.model = MultinomialNB()\n",
    "        self.vectorizer = vectorizer\n",
    "    \n",
    "    def fit(self, corpus, labels):\n",
    "        self.vectorizer.fit(corpus)\n",
    "        vectors = self.vectorizer.transform(corpus)\n",
    "        \n",
    "        self.model.fit(vectors, labels)\n",
    "        \n",
    "    def predict(self, corpus):\n",
    "        vectors = self.vectorizer.transform(corpus)\n",
    "        return ['subj' if x == 0 else 'obj' for x in self.model.predict(vectors)]\n",
    "        \n",
    "    def score(self, corpus, labels):\n",
    "        vectors = self.vectorizer.transform(corpus)\n",
    "        return self.model.score(vectors, labels)\n",
    "    \n",
    "    def cross_validation_score(self, corpus, labels, k = 10):\n",
    "        vectors = self.vectorizer.transform(corpus)\n",
    "        scores = cross_validate(self.model, vectors, labels, cv=StratifiedKFold(n_splits=k) , scoring=['f1_micro'])\n",
    "        average = sum(scores['test_f1_micro'])/len(scores['test_f1_micro'])\n",
    "        return round(average, 3)"
   ]
  },
  {
   "cell_type": "code",
   "execution_count": 2,
   "id": "6e26016b",
   "metadata": {},
   "outputs": [],
   "source": [
    "import numpy\n",
    "\n",
    "def get_subj_det_trained(sents_subj, sents_obj, vectorizer = CountVectorizer()):\n",
    "    corpus = [\" \".join([w for w in sent]) for sent in sents_subj] + [\" \".join([w for w in sent]) for sent in sents_obj]\n",
    "    labels = numpy.array([0] * len(sents_subj) + [1] * len(sents_obj))\n",
    "    \n",
    "    model = SubjectivityDetectionModel(vectorizer)\n",
    "    model.fit(corpus, labels)\n",
    "    \n",
    "    return model\n"
   ]
  }
 ],
 "metadata": {
  "kernelspec": {
   "display_name": "Python 3 (ipykernel)",
   "language": "python",
   "name": "python3"
  },
  "language_info": {
   "codemirror_mode": {
    "name": "ipython",
    "version": 3
   },
   "file_extension": ".py",
   "mimetype": "text/x-python",
   "name": "python",
   "nbconvert_exporter": "python",
   "pygments_lexer": "ipython3",
   "version": "3.9.12"
  }
 },
 "nbformat": 4,
 "nbformat_minor": 5
}
